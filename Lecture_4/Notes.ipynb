{
 "cells": [
  {
   "metadata": {},
   "cell_type": "markdown",
   "source": "# HTTP Requests",
   "id": "bd605b53b9362b1c"
  },
  {
   "metadata": {
    "ExecuteTime": {
     "end_time": "2024-11-07T16:32:15.686067Z",
     "start_time": "2024-11-07T16:32:15.081756Z"
    }
   },
   "cell_type": "code",
   "source": "import requests",
   "id": "e1717baaaf6e3ed1",
   "outputs": [],
   "execution_count": 1
  },
  {
   "metadata": {
    "ExecuteTime": {
     "end_time": "2024-11-07T16:47:00.616797Z",
     "start_time": "2024-11-07T16:47:00.060705Z"
    }
   },
   "cell_type": "code",
   "source": [
    "url = r\"https://jobs.marksandspencer.com/job-search?query=software%20engineer&country%5B0%5D=United%20Kingdom&places_position=&places_name=&radius=\"\n",
    "\n",
    "headers = {\"User-Agent\": \"Mozilla/5.0\", \"Referer\": \"https://google.com\"}\n",
    "\n",
    "response = requests.get(url, headers=headers)"
   ],
   "id": "84d38e5641cf6808",
   "outputs": [],
   "execution_count": 2
  },
  {
   "metadata": {
    "ExecuteTime": {
     "end_time": "2024-11-07T16:47:10.430368Z",
     "start_time": "2024-11-07T16:47:10.425157Z"
    }
   },
   "cell_type": "code",
   "source": "print(response.status_code)",
   "id": "cfc172a97614b57a",
   "outputs": [
    {
     "name": "stdout",
     "output_type": "stream",
     "text": [
      "200\n"
     ]
    }
   ],
   "execution_count": 3
  },
  {
   "metadata": {},
   "cell_type": "markdown",
   "source": "Requests POST example:",
   "id": "d5906c1f8eecdda3"
  },
  {
   "metadata": {},
   "cell_type": "markdown",
   "source": [
    "```\n",
    ">>> import requests\n",
    ">>> r = requests.post('http://httpbin.org/post', json={\"key\": \"value\"})\n",
    ">>> r.status_code\n",
    "200\n",
    ">>> r.json()\n",
    "{'args': {},\n",
    " 'data': '{\"key\": \"value\"}',\n",
    " 'files': {},\n",
    " 'form': {},\n",
    " 'headers': {'Accept': '*/*',\n",
    "             'Accept-Encoding': 'gzip, deflate',\n",
    "             'Connection': 'close',\n",
    "             'Content-Length': '16',\n",
    "             'Content-Type': 'application/json',\n",
    "             'Host': 'httpbin.org',\n",
    "             'User-Agent': 'python-requests/2.4.3 CPython/3.4.0',\n",
    "             'X-Request-Id': 'xx-xx-xx'},\n",
    " 'json': {'key': 'value'},\n",
    " 'origin': 'x.x.x.x',\n",
    " 'url': 'http://httpbin.org/post'}\n",
    "```"
   ],
   "id": "2f92e1ec8554df0"
  },
  {
   "metadata": {},
   "cell_type": "code",
   "outputs": [],
   "execution_count": null,
   "source": "",
   "id": "1fffee3642c7a506"
  }
 ],
 "metadata": {
  "kernelspec": {
   "display_name": "Python 3",
   "language": "python",
   "name": "python3"
  },
  "language_info": {
   "codemirror_mode": {
    "name": "ipython",
    "version": 2
   },
   "file_extension": ".py",
   "mimetype": "text/x-python",
   "name": "python",
   "nbconvert_exporter": "python",
   "pygments_lexer": "ipython2",
   "version": "2.7.6"
  }
 },
 "nbformat": 4,
 "nbformat_minor": 5
}
