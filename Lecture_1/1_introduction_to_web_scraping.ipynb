{
 "cells": [
  {
   "metadata": {},
   "cell_type": "markdown",
   "source": [
    "# Introduction to Web Scraping\n",
    "<hr>"
   ],
   "id": "414d18627dbfccab"
  },
  {
   "metadata": {},
   "cell_type": "markdown",
   "source": [
    "Web scraping consists of:\n",
    "1. Communication with the server\n",
    "2. Data parsing"
   ],
   "id": "7d7bd66a83f3f33d"
  },
  {
   "metadata": {},
   "cell_type": "markdown",
   "source": [
    "Many website has robots.txt file, which specifies access rights, such as: User-agent, Allows, Disallows.\n",
    "\n",
    "For example, https://mef.dev/robots.txt specifies the following set of access right:\n",
    "\n",
    "```User-agent: *\n",
    "Disallow: /wp-admin/\n",
    "Allow: /wp-admin/admin-ajax.php\n",
    "\n",
    "Sitemap: https://mef.dev/wp-sitemap.xml```"
   ],
   "id": "b8e93ee61a14037a"
  },
  {
   "metadata": {},
   "cell_type": "markdown",
   "source": [
    "Another example: https:// achievion.com/robots.txt contains these permissions:\n",
    "\n",
    "```User-agent: *\n",
    "Disallow: /cgi-bin\n",
    "Disallow: /wp-admin\n",
    "Disallow: /wp-login.php\n",
    "Disallow: /wp-register.php\n",
    "Disallow: /xmlrpc.php\n",
    "Disallow: /search/\n",
    "Disallow: /author/\n",
    "Disallow: /users/\n",
    "Disallow: */trackback\n",
    "Disallow: */embed\n",
    "Disallow: *?=\n",
    "Disallow: *?s=\n",
    "Disallow: *&s=\n",
    "Disallow: */wlwmanifest.xml\n",
    "Disallow: /xmlrpc.php\n",
    "Disallow: *utm*=\n",
    "Disallow: *openstat=\n",
    "Allow: */uploads\n",
    "Allow: /*/*.js\n",
    "Allow: /*/*.css\n",
    "Allow: /wp-*.png\n",
    "Allow: /wp-*.jpg\n",
    "Allow: /wp-*.jpeg\n",
    "Allow: /wp-*.gif\n",
    "Allow: /wp-admin/admin-ajax.php\n",
    "\n",
    "Sitemap: https://achievion.com/sitemap.xml\n",
    "Host: achievion.com```"
   ],
   "id": "debe2875894818ed"
  },
  {
   "metadata": {},
   "cell_type": "markdown",
   "source": [
    "Web scraping tools (in brackets - package name in pip):\n",
    "1. Beautifulsoup (beautifulsoup4). Can work with invalid HTML code. Easy to use.\n",
    "2. Selenium (selenium). Works with dynamically changing websites. Allows full browser emulation.\n",
    "3. Scrapy (Scrapy). Fast and powerful. Easily configurable. Assynchronous."
   ],
   "id": "8e3dba10437fc8ce"
  },
  {
   "metadata": {},
   "cell_type": "markdown",
   "source": "",
   "id": "1266f7f7e7c0af24"
  }
 ],
 "metadata": {
  "kernelspec": {
   "display_name": "Python 3",
   "language": "python",
   "name": "python3"
  },
  "language_info": {
   "codemirror_mode": {
    "name": "ipython",
    "version": 2
   },
   "file_extension": ".py",
   "mimetype": "text/x-python",
   "name": "python",
   "nbconvert_exporter": "python",
   "pygments_lexer": "ipython2",
   "version": "2.7.6"
  }
 },
 "nbformat": 4,
 "nbformat_minor": 5
}
